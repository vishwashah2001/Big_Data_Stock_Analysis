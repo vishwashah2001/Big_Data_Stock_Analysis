{
 "cells": [
  {
   "cell_type": "code",
   "execution_count": 4,
   "id": "9feafa1d",
   "metadata": {},
   "outputs": [
    {
     "name": "stderr",
     "output_type": "stream",
     "text": [
      "                                                                                \r"
     ]
    }
   ],
   "source": [
    "from pyspark.sql import SparkSession\n",
    "from pyspark.sql.types import *\n",
    "from pyspark.sql.functions import *\n",
    "from pyspark.sql.functions import input_file_name\n",
    "import pyspark\n",
    "spark = SparkSession.builder.appName(\"StoreHistoricalData\").getOrCreate()\n",
    "# import udf\n",
    "\n",
    "sc = spark.sparkContext\n",
    "folder_path = \"gs://stocks-pipeline/raw-data/hist/*.csv\"\n",
    "\n",
    "stocks_schema = StructType([\n",
    "    StructField(\"Date\", TimestampType(), True),\n",
    "    StructField(\"Open\", DecimalType(15,10), True),\n",
    "    StructField(\"High\", DecimalType(15,10), True),\n",
    "    StructField(\"Low\", DecimalType(15,10), True),\n",
    "    StructField(\"Close\", DecimalType(15,10), True),\n",
    "    StructField(\"Volume\", IntegerType(), True),\n",
    "    StructField(\"Dividends\", StringType(), True),\n",
    "    StructField(\"Stock Splits\", StringType(), True)\n",
    "])\n",
    "\n",
    "\n",
    "# Read all the files in the folder as a DataFrame\n",
    "hist_df = spark.read.format('csv') \\\n",
    "    .option(\"header\", True) \\\n",
    "    .schema(stocks_schema) \\\n",
    "    .option(\"path\", folder_path) \\\n",
    "    .load()\n",
    "\n",
    "\n",
    "# Add a new column with the file name to the DataFrame\n",
    "full_file_name=input_file_name()\n",
    "file_name_csv=split(full_file_name, '/').getItem(5)\n",
    "abc=regexp_extract(file_name_csv, r\"\\b\\w+\\b\", 0)\n",
    "hist_df = hist_df.withColumn('ticker', trim(regexp_replace(abc,r\"\\s+\", \"\")))\n",
    "\n",
    "hist_df = hist_df.withColumnRenamed(\"Stock Splits\", \"Stock_Splits\")\n",
    "hist_df= hist_df.withColumn(\"year\", year(\"Date\").cast(IntegerType()))\n",
    "hist_df = hist_df.withColumn(\"month\", month(\"Date\").cast(IntegerType()))\n",
    "hist_df_final = hist_df.withColumn(\"day\", dayofmonth(\"Date\").cast(IntegerType()))\n",
    "\n",
    "hist_df_final.repartition(96,\"year\", \"month\", \"day\") \\\n",
    "            .sortWithinPartitions(\"ticker\") \\\n",
    "            .write \\\n",
    "            .mode(\"append\") \\\n",
    "            .partitionBy(\"year\", \"month\", \"day\") \\\n",
    "            .format(\"parquet\") \\\n",
    "            .option(\"compression\", \"snappy\") \\\n",
    "            .save(\"gs://stocks-pipeline/raw-data/daily_high_low_historical\")\n",
    "\n",
    "spark.stop()"
   ]
  },
  {
   "cell_type": "code",
   "execution_count": null,
   "id": "887ecf49",
   "metadata": {},
   "outputs": [],
   "source": []
  }
 ],
 "metadata": {
  "kernelspec": {
   "display_name": "PySpark",
   "language": "python",
   "name": "pyspark"
  },
  "language_info": {
   "codemirror_mode": {
    "name": "ipython",
    "version": 3
   },
   "file_extension": ".py",
   "mimetype": "text/x-python",
   "name": "python",
   "nbconvert_exporter": "python",
   "pygments_lexer": "ipython3",
   "version": "3.8.15"
  }
 },
 "nbformat": 4,
 "nbformat_minor": 5
}
