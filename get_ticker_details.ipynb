{
 "cells": [
  {
   "cell_type": "code",
   "execution_count": null,
   "id": "fa218cc1",
   "metadata": {},
   "outputs": [],
   "source": [
    "import requests\n",
    "from pyspark.sql import SparkSession\n",
    "from pyspark.sql.types import StructType, StructField, StringType, IntegerType, BooleanType, TimestampType\n",
    "import time\n",
    "import json\n",
    "\n",
    "spark = SparkSession.builder.appName(\"GetAllStockDataFromApiByDate\").getOrCreate()\n",
    "\n",
    "url = \"https://api.polygon.io/v3/reference/tickers?market=stocks&active=true&order=asc&limit=1000&apiKey=VOYRq_vnd9soI0AhCO8FQpK4auZ6ppc3\"\n",
    "\n",
    "ticker_details_schema = StructType([\n",
    "    StructField(\"active\", StringType(), True),\n",
    "    StructField(\"cik\", StringType(), True),\n",
    "    StructField(\"composite_figi\", StringType(), True),\n",
    "    StructField(\"currency_name\", StringType(), True),\n",
    "    StructField(\"last_updated_utc\", StringType(), True),\n",
    "    StructField(\"locale\", StringType(), True),\n",
    "    StructField(\"market\", StringType(), True),\n",
    "    StructField(\"name\", StringType(), True),\n",
    "    StructField(\"primary_exchange\", StringType(), True),\n",
    "    StructField(\"share_class_figi\", StringType(), True),\n",
    "    StructField(\"ticker\", StringType(), True),\n",
    "    StructField(\"type\", StringType(), True)\n",
    "])\n",
    "\n",
    "\n",
    "response = requests.get(url)\n",
    "ticker_details_df = spark.createDataFrame(response.json()[\"results\"], schema = ticker_details_schema)\n",
    "\n",
    "flag = 0\n",
    "\n",
    "while(flag==0):\n",
    "    time.sleep(30)\n",
    "    if 'next_url' in response.json():\n",
    "        next_url = response.json()['next_url'] + \"&apiKey=VOYRq_vnd9soI0AhCO8FQpK4auZ6ppc3\"\n",
    "        response = requests.get(next_url)\n",
    "        \n",
    "        ticker_details_df = ticker_details_df.union(spark.createDataFrame(response.json()[\"results\"], schema = ticker_details_schema))\n",
    "\n",
    "    else:\n",
    "        print(\"No data\")\n",
    "        flag = 1\n",
    "\n",
    "ticker_details_df = ticker_details_df.coalesce(8)\n",
    "\n",
    "ticker_details_df.write.format(\"parquet\").\\\n",
    "    option(\"compression\", \"snappy\").\\\n",
    "        mode(\"append\").\\\n",
    "            save(\"gs://stocks-pipeline/raw-data/ticker_details\")\n",
    "\n",
    "spark.stop()\n"
   ]
  }
 ],
 "metadata": {
  "kernelspec": {
   "display_name": "PySpark",
   "language": "python",
   "name": "pyspark"
  },
  "language_info": {
   "codemirror_mode": {
    "name": "ipython",
    "version": 3
   },
   "file_extension": ".py",
   "mimetype": "text/x-python",
   "name": "python",
   "nbconvert_exporter": "python",
   "pygments_lexer": "ipython3",
   "version": "3.8.15"
  }
 },
 "nbformat": 4,
 "nbformat_minor": 5
}
