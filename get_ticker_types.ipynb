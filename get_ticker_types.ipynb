{
 "cells": [
  {
   "cell_type": "code",
   "execution_count": null,
   "id": "b02dff6a",
   "metadata": {},
   "outputs": [],
   "source": [
    "import requests\n",
    "from pyspark.sql import SparkSession\n",
    "from pyspark.sql.types import StructType, StructField, StringType, IntegerType\n",
    "\n",
    "spark = SparkSession.builder.appName(\"GetTickersTypeDataFromApi\").getOrCreate()\n",
    "url = \"https://api.polygon.io/v3/reference/tickers/types?asset_class=stocks&apiKey=VOYRq_vnd9soI0AhCO8FQpK4auZ6ppc3\"\n",
    "\n",
    "ticker_types_schema = StructType([\n",
    "    StructField(\"asset_class\", StringType(), True),\n",
    "    StructField(\"code\", StringType(), True),\n",
    "    StructField(\"description\", StringType(), True),\n",
    "    StructField(\"locale\", StringType(), True)\n",
    "])\n",
    "\n",
    "response = requests.get(url)\n",
    "\n",
    "ticker_types_df = spark.createDataFrame(response.json()[\"results\"], schema = ticker_types_schema)\n",
    "\n",
    "\n",
    "ticker_types_df.write.format(\"parquet\").\\\n",
    "    option(\"compression\", \"snappy\").\\\n",
    "    mode(\"append\").\\\n",
    "        save(\"gs://stocks-pipeline/raw-data/ticker_types\")\n",
    "\n",
    "spark.stop()\n"
   ]
  }
 ],
 "metadata": {
  "kernelspec": {
   "display_name": "PySpark",
   "language": "python",
   "name": "pyspark"
  },
  "language_info": {
   "codemirror_mode": {
    "name": "ipython",
    "version": 3
   },
   "file_extension": ".py",
   "mimetype": "text/x-python",
   "name": "python",
   "nbconvert_exporter": "python",
   "pygments_lexer": "ipython3",
   "version": "3.8.15"
  }
 },
 "nbformat": 4,
 "nbformat_minor": 5
}
