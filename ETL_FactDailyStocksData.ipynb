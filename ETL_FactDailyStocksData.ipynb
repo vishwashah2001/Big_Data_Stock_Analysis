{
 "cells": [
  {
   "cell_type": "code",
   "execution_count": null,
   "id": "90cfc91c",
   "metadata": {},
   "outputs": [],
   "source": [
    "from pyspark.sql import functions as f\n",
    "from pyspark.sql import SparkSession\n",
    "from pyspark.sql.types import (StructType, StructField, StringType,\n",
    "                               IntegerType, BooleanType, TimestampType,\n",
    "                              ArrayType, MapType)\n",
    "\n",
    "from google.cloud import bigquery\n",
    "from pyspark.sql.window import Window\n",
    "\n",
    "spark = SparkSession.builder \\\n",
    "  .appName(\"FactDailyStocksDatae\") \\\n",
    "  .config(\"spark.jars\", \"gs://stocks-pipeline/jars/spark-bigquery-with-dependencies_2.12-0.24.0.jar\") \\\n",
    "  .config(\"spark.jars.packages\", \"com.google.cloud.spark:spark-bigquery_2.12:0.24.0\") \\\n",
    "  .config(\"spark.driver.extraClassPath\", \"gs://stocks-pipeline/jars/*\") \\\n",
    "  .getOrCreate()\n",
    "\n",
    "\n",
    "df = spark.read \\\n",
    "  .format(\"bigquery\") \\\n",
    "  .option(\"table\", \"noted-span-377814.Stocks_DW.DimDate\") \\\n",
    "  .load()\n",
    "\n",
    "print(df.show())\n",
    "\n",
    "spark.stop()\n",
    "\n"
   ]
  }
 ],
 "metadata": {
  "kernelspec": {
   "display_name": "PySpark",
   "language": "python",
   "name": "pyspark"
  },
  "language_info": {
   "codemirror_mode": {
    "name": "ipython",
    "version": 3
   },
   "file_extension": ".py",
   "mimetype": "text/x-python",
   "name": "python",
   "nbconvert_exporter": "python",
   "pygments_lexer": "ipython3",
   "version": "3.8.15"
  }
 },
 "nbformat": 4,
 "nbformat_minor": 5
}
