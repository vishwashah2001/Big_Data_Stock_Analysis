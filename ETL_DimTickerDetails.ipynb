{
 "cells": [
  {
   "cell_type": "code",
   "execution_count": null,
   "id": "ea45ead2",
   "metadata": {},
   "outputs": [],
   "source": [
    "from pyspark.sql import functions as f\n",
    "from pyspark.sql import SparkSession\n",
    "from pyspark.sql.types import (StructType, StructField, StringType,\n",
    "                               IntegerType, BooleanType, TimestampType,\n",
    "                              ArrayType, MapType)\n",
    "\n",
    "from google.cloud import bigquery\n",
    "from pyspark.sql.window import Window\n",
    "\n",
    "\n",
    "spark = SparkSession.builder.appName(\"DimTickerDetails\") \\\n",
    ".config(\"spark.jars.packages\", \"com.google.cloud.spark:spark-bigquery-with-dependencies_2.12:0.24.0\") \\\n",
    ".getOrCreate()\n",
    "\n",
    "ticker_Df = spark.read.format(\"parquet\") \\\n",
    "            .option(\"header\", \"true\") \\\n",
    "            .load(\"gs://stocks-pipeline/raw-data/ticker_details/*.parquet\")\n",
    "\n",
    "ticker_Df = ticker_Df.withColumn(\"tickerKey\", f.row_number().over(Window.orderBy('ticker')))\n",
    "ticker_Df = ticker_Df.selectExpr(\"*\",\"CASE WHEN active = true THEN 1 ELSE 0 END AS isActive\")\n",
    "ticker_Df = ticker_Df.fillna(value = 'Not Assigned', subset = [\"cik\", \"composite_figi\", \"share_class_figi\"])\n",
    "ticker_Df = ticker_Df.fillna(value = 'Unknown', subset = [\"type\"])\n",
    "ticker_Df = ticker_Df.drop(\"active\")\n",
    "\n",
    "\n",
    "# create a BigQuery client and dataset reference\n",
    "client = bigquery.Client(project='noted-span-377814')\n",
    "dataset_ref = client.dataset('Stocks_DW')\n",
    "\n",
    "# create a BigQuery table and upload the data\n",
    "table_ref = dataset_ref.table('DimTickerDetails')\n",
    "\n",
    "job_config = bigquery.LoadJobConfig(write_disposition='WRITE_TRUNCATE')\n",
    "job = client.load_table_from_dataframe(ticker_Df.toPandas(), table_ref, job_config=job_config)\n",
    "print(job.result())\n",
    "\n",
    "spark.stop()"
   ]
  }
 ],
 "metadata": {
  "kernelspec": {
   "display_name": "PySpark",
   "language": "python",
   "name": "pyspark"
  },
  "language_info": {
   "codemirror_mode": {
    "name": "ipython",
    "version": 3
   },
   "file_extension": ".py",
   "mimetype": "text/x-python",
   "name": "python",
   "nbconvert_exporter": "python",
   "pygments_lexer": "ipython3",
   "version": "3.8.15"
  }
 },
 "nbformat": 4,
 "nbformat_minor": 5
}
